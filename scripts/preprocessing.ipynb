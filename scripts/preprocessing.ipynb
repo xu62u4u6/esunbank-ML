{
 "cells": [
  {
   "cell_type": "code",
   "execution_count": null,
   "metadata": {},
   "outputs": [],
   "source": [
    "import pandas as pd\n",
    "import numpy as np\n",
    "import matplotlib.pyplot as plt\n",
    "import seaborn as sns\n",
    "import os"
   ]
  },
  {
   "cell_type": "code",
   "execution_count": null,
   "metadata": {},
   "outputs": [],
   "source": [
    "# chdir\n",
    "data_dir = \"/home/blue_pc/code/esunbank-ML/raw_data\"\n",
    "os.chdir(data_dir)\n",
    "\n",
    "# by alert key\n",
    "train_y = pd.read_csv(\"train_y_answer.csv\", index_col=0)\n",
    "custinfo = pd.read_csv(\"public_train_x_custinfo_full_hashed.csv\", index_col=0)\n",
    "alert_date = pd.read_csv(\"train_x_alert_date.csv\", index_col=0)\n",
    "full_cust_info = pd.concat((custinfo, alert_date, train_y), axis=1, join=\"inner\")\n",
    "\n",
    "# by cust_id\n",
    "cdtx = pd.read_csv(\"public_train_x_cdtx0001_full_hashed.csv\", index_col=0)\n",
    "dp = pd.read_csv(\"public_train_x_dp_full_hashed.csv\", index_col=0)\n",
    "remit1 = pd.read_csv(\"public_train_x_remit1_full_hashed.csv\", index_col=0)\n",
    "ccba = pd.read_csv(\"public_train_x_ccba_full_hashed.csv\", index_col=0)"
   ]
  },
  {
   "cell_type": "code",
   "execution_count": null,
   "metadata": {},
   "outputs": [],
   "source": [
    "from sklearn.preprocessing import MinMaxScaler\n",
    "scaler = MinMaxScaler()\n",
    "\n",
    "#　cust前處理\n",
    "cdtx_drop_date_cust_id = full_cust_info.drop([\"cust_id\", \"date\",], axis=1).values\n",
    "scaler.fit(cdtx_drop_date_cust_id)\n",
    "full_cust_info.loc[: ,(full_cust_info.columns != \"date\")&(full_cust_info.columns != \"cust_id\")] = scaler.transform(cdtx_drop_date_cust_id)\n",
    "\n",
    "# cdtx前處理\n",
    "\n",
    "cdtx = cdtx.fillna(0)\n",
    "cdtx.amt = np.where(cdtx.amt!=0, np.log10(cdtx.amt), 0)\n",
    "cdtx.country = np.where(cdtx.country==130, 1, 0)\n",
    "cdtx_drop_date = cdtx.drop(\"date\", axis=1).values\n",
    "scaler.fit(cdtx_drop_date)\n",
    "cdtx.loc[: ,cdtx.columns != \"date\"] = scaler.transform(cdtx_drop_date)\n",
    "\n",
    "# dp前處理\n",
    "dp.tx_amt = np.where(dp.tx_amt!=0, np.log10(dp.tx_amt), 0)\n",
    "sign = np.where(dp.debit_credit == \"CR\", 1, -1)\n",
    "dp = dp.drop([\"debit_credit\", \"fiscTxId\", \"txbranch\", \"tx_time\"], axis=1) # \n",
    "dp = dp.rename(columns={'tx_date': 'date'})\n",
    "dp = dp.fillna(0)\n",
    "dp_drop_date = dp.drop(\"date\", axis=1).values\n",
    "scaler.fit(dp_drop_date)\n",
    "dp.loc[: ,dp.columns != \"date\"] = scaler.transform(dp_drop_date)\n",
    "dp.tx_amt = sign*dp.tx_amt # 若為借出則改為一\n",
    "\n",
    "\n",
    "# remit1前處理\n",
    "remit1 = remit1.drop(\"trans_no\", axis=1)\n",
    "remit1 = remit1.rename(columns={'trans_date': 'date'})\n",
    "\n",
    "remit1.trade_amount_usd = np.where(remit1.trade_amount_usd!=0, np.log10(remit1.trade_amount_usd), 0)\n",
    "remit1 = remit1.fillna(0)\n",
    "remit1_drop_date = remit1.drop(\"date\", axis=1).values\n",
    "scaler.fit(remit1_drop_date)\n",
    "remit1.loc[: ,remit1.columns != \"date\"] = scaler.transform(remit1_drop_date)\n",
    "\n",
    "# 觀察資料 推測與date一樣\n",
    "ccba = ccba.rename(columns={'byymm': 'date'})\n",
    "ccba.lupay = np.where(ccba.lupay!=0, np.log10(ccba.lupay), 0)\n",
    "ccba.cycam = np.where(ccba.cycam!=0, np.log10(ccba.cycam), 0)\n",
    "ccba = ccba.fillna(0)\n",
    "ccba_drop_date = ccba.drop(\"date\", axis=1).values\n",
    "scaler.fit(ccba_drop_date)\n",
    "ccba.loc[: ,ccba.columns != \"date\"] = scaler.transform(ccba_drop_date)"
   ]
  },
  {
   "cell_type": "code",
   "execution_count": null,
   "metadata": {},
   "outputs": [],
   "source": [
    "data_dir =  \"/home/blue_pc/code/esunbank-ML/raw_data/clean_data\"\n",
    "os.chdir(data_dir)\n",
    "full_cust_info.to_csv(\"full_cust_info.csv\")\n",
    "cdtx.to_csv(\"cdtx.csv\")\n",
    "dp.to_csv(\"dp.csv\")\n",
    "remit1.to_csv(\"remit1.csv\")\n",
    "ccba.to_csv(\"ccba.csv\")"
   ]
  }
 ],
 "metadata": {
  "kernelspec": {
   "display_name": "data",
   "language": "python",
   "name": "python3"
  },
  "language_info": {
   "name": "python",
   "version": "3.8.13 (default, Mar 28 2022, 11:38:47) \n[GCC 7.5.0]"
  },
  "orig_nbformat": 4,
  "vscode": {
   "interpreter": {
    "hash": "c52b429177cbc92adca8503b063d6211d1d4be1328c50016fada20a50c933c0a"
   }
  }
 },
 "nbformat": 4,
 "nbformat_minor": 2
}
